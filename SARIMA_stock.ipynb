{
  "nbformat": 4,
  "nbformat_minor": 0,
  "metadata": {
    "colab": {
      "name": "SARIMA_stock.ipynb",
      "provenance": [],
      "collapsed_sections": []
    },
    "kernelspec": {
      "name": "python3",
      "display_name": "Python 3"
    }
  },
  "cells": [
    {
      "cell_type": "code",
      "metadata": {
        "id": "bS3z5X2U114K",
        "colab_type": "code",
        "colab": {
          "base_uri": "https://localhost:8080/",
          "height": 71
        },
        "outputId": "6c767fe5-b607-4346-fb42-a1f8eea4612c"
      },
      "source": [
        "import numpy as np\n",
        "import pandas as pd\n",
        "import matplotlib.pyplot as plt\n",
        "from pandas.plotting import lag_plot\n",
        "from pandas import datetime\n",
        "from statsmodels.tsa.arima_model import ARIMA\n",
        "from sklearn.metrics import mean_squared_error\n",
        "from statsmodels.tsa.statespace.sarimax import SARIMAX\n"
      ],
      "execution_count": null,
      "outputs": [
        {
          "output_type": "stream",
          "text": [
            "/usr/local/lib/python3.6/dist-packages/statsmodels/tools/_testing.py:19: FutureWarning: pandas.util.testing is deprecated. Use the functions in the public API at pandas.testing instead.\n",
            "  import pandas.util.testing as tm\n"
          ],
          "name": "stderr"
        }
      ]
    },
    {
      "cell_type": "code",
      "metadata": {
        "id": "Fe6DCBQw6L-E",
        "colab_type": "code",
        "colab": {
          "base_uri": "https://localhost:8080/",
          "height": 122
        },
        "outputId": "10626ca4-fd40-48c3-f250-aad7ea1b7a55"
      },
      "source": [
        "from google.colab import drive\n",
        "drive.mount('/content/driver')"
      ],
      "execution_count": null,
      "outputs": [
        {
          "output_type": "stream",
          "text": [
            "Go to this URL in a browser: https://accounts.google.com/o/oauth2/auth?client_id=947318989803-6bn6qk8qdgf4n4g3pfee6491hc0brc4i.apps.googleusercontent.com&redirect_uri=urn%3aietf%3awg%3aoauth%3a2.0%3aoob&response_type=code&scope=email%20https%3a%2f%2fwww.googleapis.com%2fauth%2fdocs.test%20https%3a%2f%2fwww.googleapis.com%2fauth%2fdrive%20https%3a%2f%2fwww.googleapis.com%2fauth%2fdrive.photos.readonly%20https%3a%2f%2fwww.googleapis.com%2fauth%2fpeopleapi.readonly\n",
            "\n",
            "Enter your authorization code:\n",
            "··········\n",
            "Mounted at /content/driver\n"
          ],
          "name": "stdout"
        }
      ]
    },
    {
      "cell_type": "code",
      "metadata": {
        "id": "0uFBBD9Zcuqk",
        "colab_type": "code",
        "colab": {
          "base_uri": "https://localhost:8080/",
          "height": 54
        },
        "outputId": "fbf8fc43-2c35-49c2-c594-62de8cd8ce8d"
      },
      "source": [
        "#mounted google drive\n",
        "from google.colab import drive\n",
        "drive.mount('/content/driver')"
      ],
      "execution_count": null,
      "outputs": [
        {
          "output_type": "stream",
          "text": [
            "Drive already mounted at /content/driver; to attempt to forcibly remount, call drive.mount(\"/content/driver\", force_remount=True).\n"
          ],
          "name": "stdout"
        }
      ]
    },
    {
      "cell_type": "code",
      "metadata": {
        "id": "twpUROsa6aY1",
        "colab_type": "code",
        "colab": {
          "base_uri": "https://localhost:8080/",
          "height": 419
        },
        "outputId": "24db1218-671b-4305-ea45-509b021d86d0"
      },
      "source": [
        "#Read infosys dataset\n",
        "df=pd.read_csv('/content/driver/My Drive/info1.csv')\n",
        "df"
      ],
      "execution_count": null,
      "outputs": [
        {
          "output_type": "execute_result",
          "data": {
            "text/html": [
              "<div>\n",
              "<style scoped>\n",
              "    .dataframe tbody tr th:only-of-type {\n",
              "        vertical-align: middle;\n",
              "    }\n",
              "\n",
              "    .dataframe tbody tr th {\n",
              "        vertical-align: top;\n",
              "    }\n",
              "\n",
              "    .dataframe thead th {\n",
              "        text-align: right;\n",
              "    }\n",
              "</style>\n",
              "<table border=\"1\" class=\"dataframe\">\n",
              "  <thead>\n",
              "    <tr style=\"text-align: right;\">\n",
              "      <th></th>\n",
              "      <th>Date</th>\n",
              "      <th>Open</th>\n",
              "      <th>High</th>\n",
              "      <th>Low</th>\n",
              "      <th>Close</th>\n",
              "      <th>Adj Close</th>\n",
              "      <th>Volume</th>\n",
              "    </tr>\n",
              "  </thead>\n",
              "  <tbody>\n",
              "    <tr>\n",
              "      <th>0</th>\n",
              "      <td>11/27/2018</td>\n",
              "      <td>625.50</td>\n",
              "      <td>641.00</td>\n",
              "      <td>625.30</td>\n",
              "      <td>638.90</td>\n",
              "      <td>615.69</td>\n",
              "      <td>12285851</td>\n",
              "    </tr>\n",
              "    <tr>\n",
              "      <th>1</th>\n",
              "      <td>11/28/2018</td>\n",
              "      <td>640.95</td>\n",
              "      <td>668.70</td>\n",
              "      <td>640.00</td>\n",
              "      <td>666.40</td>\n",
              "      <td>642.19</td>\n",
              "      <td>17719890</td>\n",
              "    </tr>\n",
              "    <tr>\n",
              "      <th>2</th>\n",
              "      <td>11/29/2018</td>\n",
              "      <td>671.00</td>\n",
              "      <td>674.90</td>\n",
              "      <td>658.80</td>\n",
              "      <td>661.05</td>\n",
              "      <td>637.03</td>\n",
              "      <td>13399070</td>\n",
              "    </tr>\n",
              "    <tr>\n",
              "      <th>3</th>\n",
              "      <td>11/30/2018</td>\n",
              "      <td>661.00</td>\n",
              "      <td>672.00</td>\n",
              "      <td>660.95</td>\n",
              "      <td>667.45</td>\n",
              "      <td>643.20</td>\n",
              "      <td>10445773</td>\n",
              "    </tr>\n",
              "    <tr>\n",
              "      <th>4</th>\n",
              "      <td>12/3/2018</td>\n",
              "      <td>673.15</td>\n",
              "      <td>679.00</td>\n",
              "      <td>665.95</td>\n",
              "      <td>670.35</td>\n",
              "      <td>645.99</td>\n",
              "      <td>8260890</td>\n",
              "    </tr>\n",
              "    <tr>\n",
              "      <th>...</th>\n",
              "      <td>...</td>\n",
              "      <td>...</td>\n",
              "      <td>...</td>\n",
              "      <td>...</td>\n",
              "      <td>...</td>\n",
              "      <td>...</td>\n",
              "      <td>...</td>\n",
              "    </tr>\n",
              "    <tr>\n",
              "      <th>237</th>\n",
              "      <td>11/21/2019</td>\n",
              "      <td>715.50</td>\n",
              "      <td>721.45</td>\n",
              "      <td>710.50</td>\n",
              "      <td>713.25</td>\n",
              "      <td>713.25</td>\n",
              "      <td>9692973</td>\n",
              "    </tr>\n",
              "    <tr>\n",
              "      <th>238</th>\n",
              "      <td>11/22/2019</td>\n",
              "      <td>711.75</td>\n",
              "      <td>712.00</td>\n",
              "      <td>685.10</td>\n",
              "      <td>693.20</td>\n",
              "      <td>693.20</td>\n",
              "      <td>14415826</td>\n",
              "    </tr>\n",
              "    <tr>\n",
              "      <th>239</th>\n",
              "      <td>11/25/2019</td>\n",
              "      <td>693.35</td>\n",
              "      <td>705.15</td>\n",
              "      <td>693.20</td>\n",
              "      <td>698.10</td>\n",
              "      <td>698.10</td>\n",
              "      <td>7334511</td>\n",
              "    </tr>\n",
              "    <tr>\n",
              "      <th>240</th>\n",
              "      <td>11/26/2019</td>\n",
              "      <td>705.00</td>\n",
              "      <td>707.25</td>\n",
              "      <td>686.00</td>\n",
              "      <td>690.60</td>\n",
              "      <td>690.60</td>\n",
              "      <td>27252999</td>\n",
              "    </tr>\n",
              "    <tr>\n",
              "      <th>241</th>\n",
              "      <td>11/27/2019</td>\n",
              "      <td>694.25</td>\n",
              "      <td>697.65</td>\n",
              "      <td>690.10</td>\n",
              "      <td>695.75</td>\n",
              "      <td>695.75</td>\n",
              "      <td>3859538</td>\n",
              "    </tr>\n",
              "  </tbody>\n",
              "</table>\n",
              "<p>242 rows × 7 columns</p>\n",
              "</div>"
            ],
            "text/plain": [
              "           Date    Open    High     Low   Close  Adj Close    Volume\n",
              "0    11/27/2018  625.50  641.00  625.30  638.90     615.69  12285851\n",
              "1    11/28/2018  640.95  668.70  640.00  666.40     642.19  17719890\n",
              "2    11/29/2018  671.00  674.90  658.80  661.05     637.03  13399070\n",
              "3    11/30/2018  661.00  672.00  660.95  667.45     643.20  10445773\n",
              "4     12/3/2018  673.15  679.00  665.95  670.35     645.99   8260890\n",
              "..          ...     ...     ...     ...     ...        ...       ...\n",
              "237  11/21/2019  715.50  721.45  710.50  713.25     713.25   9692973\n",
              "238  11/22/2019  711.75  712.00  685.10  693.20     693.20  14415826\n",
              "239  11/25/2019  693.35  705.15  693.20  698.10     698.10   7334511\n",
              "240  11/26/2019  705.00  707.25  686.00  690.60     690.60  27252999\n",
              "241  11/27/2019  694.25  697.65  690.10  695.75     695.75   3859538\n",
              "\n",
              "[242 rows x 7 columns]"
            ]
          },
          "metadata": {
            "tags": []
          },
          "execution_count": 6
        }
      ]
    },
    {
      "cell_type": "code",
      "metadata": {
        "id": "ZjvHY9K16xYq",
        "colab_type": "code",
        "colab": {
          "base_uri": "https://localhost:8080/",
          "height": 153
        },
        "outputId": "e35c744a-0473-40e2-b915-8be924ca8a85"
      },
      "source": [
        "#for data cleaning\n",
        "df.isnull().any()"
      ],
      "execution_count": null,
      "outputs": [
        {
          "output_type": "execute_result",
          "data": {
            "text/plain": [
              "Date         False\n",
              "Open         False\n",
              "High         False\n",
              "Low          False\n",
              "Close        False\n",
              "Adj Close    False\n",
              "Volume       False\n",
              "dtype: bool"
            ]
          },
          "metadata": {
            "tags": []
          },
          "execution_count": 7
        }
      ]
    },
    {
      "cell_type": "code",
      "metadata": {
        "id": "-46LYJyd67_Z",
        "colab_type": "code",
        "colab": {
          "base_uri": "https://localhost:8080/",
          "height": 367
        },
        "outputId": "78cc37c8-cc1b-4b9f-dc18-fafcdc19176c"
      },
      "source": [
        "#plotting lag plot to see if dataset is stationary or not\n",
        "plt.figure(figsize=(5,5))#to set the size of figure\n",
        "lag_plot(df['Open'],lag=5)\n",
        "plt.title(\"Infosys stock data\")"
      ],
      "execution_count": null,
      "outputs": [
        {
          "output_type": "execute_result",
          "data": {
            "text/plain": [
              "Text(0.5, 1.0, 'Infosys stock data')"
            ]
          },
          "metadata": {
            "tags": []
          },
          "execution_count": 8
        },
        {
          "output_type": "display_data",
          "data": {
            "image/png": "[encoded data removed]",
            "text/plain": [
              "<Figure size 360x360 with 1 Axes>"
            ]
          },
          "metadata": {
            "tags": [],
            "needs_background": "light"
          }
        }
      ]
    },
    {
      "cell_type": "code",
      "metadata": {
        "id": "uzQI__MH7Dwv",
        "colab_type": "code",
        "colab": {
          "base_uri": "https://localhost:8080/",
          "height": 34
        },
        "outputId": "ea2a2d01-a030-4a0e-f40d-6d8351ccf4a1"
      },
      "source": [
        "a=int(len(df)*0.8)\n",
        "a"
      ],
      "execution_count": null,
      "outputs": [
        {
          "output_type": "execute_result",
          "data": {
            "text/plain": [
              "193"
            ]
          },
          "metadata": {
            "tags": []
          },
          "execution_count": 9
        }
      ]
    },
    {
      "cell_type": "code",
      "metadata": {
        "id": "gy-vevvX7GvA",
        "colab_type": "code",
        "colab": {
          "base_uri": "https://localhost:8080/",
          "height": 419
        },
        "outputId": "d5c5eddb-6fce-4f6d-a652-240548d8bf8f"
      },
      "source": [
        "#splitting into training and testing dataset\n",
        "train_set,test_set=df[0:a],df[a:]\n",
        "train_set"
      ],
      "execution_count": null,
      "outputs": [
        {
          "output_type": "execute_result",
          "data": {
            "text/html": [
              "<div>\n",
              "<style scoped>\n",
              "    .dataframe tbody tr th:only-of-type {\n",
              "        vertical-align: middle;\n",
              "    }\n",
              "\n",
              "    .dataframe tbody tr th {\n",
              "        vertical-align: top;\n",
              "    }\n",
              "\n",
              "    .dataframe thead th {\n",
              "        text-align: right;\n",
              "    }\n",
              "</style>\n",
              "<table border=\"1\" class=\"dataframe\">\n",
              "  <thead>\n",
              "    <tr style=\"text-align: right;\">\n",
              "      <th></th>\n",
              "      <th>Date</th>\n",
              "      <th>Open</th>\n",
              "      <th>High</th>\n",
              "      <th>Low</th>\n",
              "      <th>Close</th>\n",
              "      <th>Adj Close</th>\n",
              "      <th>Volume</th>\n",
              "    </tr>\n",
              "  </thead>\n",
              "  <tbody>\n",
              "    <tr>\n",
              "      <th>0</th>\n",
              "      <td>11/27/2018</td>\n",
              "      <td>625.50</td>\n",
              "      <td>641.00</td>\n",
              "      <td>625.30</td>\n",
              "      <td>638.90</td>\n",
              "      <td>615.69</td>\n",
              "      <td>12285851</td>\n",
              "    </tr>\n",
              "    <tr>\n",
              "      <th>1</th>\n",
              "      <td>11/28/2018</td>\n",
              "      <td>640.95</td>\n",
              "      <td>668.70</td>\n",
              "      <td>640.00</td>\n",
              "      <td>666.40</td>\n",
              "      <td>642.19</td>\n",
              "      <td>17719890</td>\n",
              "    </tr>\n",
              "    <tr>\n",
              "      <th>2</th>\n",
              "      <td>11/29/2018</td>\n",
              "      <td>671.00</td>\n",
              "      <td>674.90</td>\n",
              "      <td>658.80</td>\n",
              "      <td>661.05</td>\n",
              "      <td>637.03</td>\n",
              "      <td>13399070</td>\n",
              "    </tr>\n",
              "    <tr>\n",
              "      <th>3</th>\n",
              "      <td>11/30/2018</td>\n",
              "      <td>661.00</td>\n",
              "      <td>672.00</td>\n",
              "      <td>660.95</td>\n",
              "      <td>667.45</td>\n",
              "      <td>643.20</td>\n",
              "      <td>10445773</td>\n",
              "    </tr>\n",
              "    <tr>\n",
              "      <th>4</th>\n",
              "      <td>12/3/2018</td>\n",
              "      <td>673.15</td>\n",
              "      <td>679.00</td>\n",
              "      <td>665.95</td>\n",
              "      <td>670.35</td>\n",
              "      <td>645.99</td>\n",
              "      <td>8260890</td>\n",
              "    </tr>\n",
              "    <tr>\n",
              "      <th>...</th>\n",
              "      <td>...</td>\n",
              "      <td>...</td>\n",
              "      <td>...</td>\n",
              "      <td>...</td>\n",
              "      <td>...</td>\n",
              "      <td>...</td>\n",
              "      <td>...</td>\n",
              "    </tr>\n",
              "    <tr>\n",
              "      <th>188</th>\n",
              "      <td>9/6/2019</td>\n",
              "      <td>843.30</td>\n",
              "      <td>847.00</td>\n",
              "      <td>835.05</td>\n",
              "      <td>840.15</td>\n",
              "      <td>821.06</td>\n",
              "      <td>6106841</td>\n",
              "    </tr>\n",
              "    <tr>\n",
              "      <th>189</th>\n",
              "      <td>9/9/2019</td>\n",
              "      <td>836.80</td>\n",
              "      <td>840.30</td>\n",
              "      <td>827.55</td>\n",
              "      <td>829.10</td>\n",
              "      <td>810.26</td>\n",
              "      <td>4377870</td>\n",
              "    </tr>\n",
              "    <tr>\n",
              "      <th>190</th>\n",
              "      <td>9/11/2019</td>\n",
              "      <td>822.30</td>\n",
              "      <td>828.55</td>\n",
              "      <td>814.15</td>\n",
              "      <td>820.10</td>\n",
              "      <td>801.47</td>\n",
              "      <td>7981036</td>\n",
              "    </tr>\n",
              "    <tr>\n",
              "      <th>191</th>\n",
              "      <td>9/12/2019</td>\n",
              "      <td>816.40</td>\n",
              "      <td>819.85</td>\n",
              "      <td>810.85</td>\n",
              "      <td>816.40</td>\n",
              "      <td>797.85</td>\n",
              "      <td>4400017</td>\n",
              "    </tr>\n",
              "    <tr>\n",
              "      <th>192</th>\n",
              "      <td>9/13/2019</td>\n",
              "      <td>818.10</td>\n",
              "      <td>831.05</td>\n",
              "      <td>817.50</td>\n",
              "      <td>829.30</td>\n",
              "      <td>810.46</td>\n",
              "      <td>4832021</td>\n",
              "    </tr>\n",
              "  </tbody>\n",
              "</table>\n",
              "<p>193 rows × 7 columns</p>\n",
              "</div>"
            ],
            "text/plain": [
              "           Date    Open    High     Low   Close  Adj Close    Volume\n",
              "0    11/27/2018  625.50  641.00  625.30  638.90     615.69  12285851\n",
              "1    11/28/2018  640.95  668.70  640.00  666.40     642.19  17719890\n",
              "2    11/29/2018  671.00  674.90  658.80  661.05     637.03  13399070\n",
              "3    11/30/2018  661.00  672.00  660.95  667.45     643.20  10445773\n",
              "4     12/3/2018  673.15  679.00  665.95  670.35     645.99   8260890\n",
              "..          ...     ...     ...     ...     ...        ...       ...\n",
              "188    9/6/2019  843.30  847.00  835.05  840.15     821.06   6106841\n",
              "189    9/9/2019  836.80  840.30  827.55  829.10     810.26   4377870\n",
              "190   9/11/2019  822.30  828.55  814.15  820.10     801.47   7981036\n",
              "191   9/12/2019  816.40  819.85  810.85  816.40     797.85   4400017\n",
              "192   9/13/2019  818.10  831.05  817.50  829.30     810.46   4832021\n",
              "\n",
              "[193 rows x 7 columns]"
            ]
          },
          "metadata": {
            "tags": []
          },
          "execution_count": 10
        }
      ]
    },
    {
      "cell_type": "code",
      "metadata": {
        "id": "aCnkAwqQ7REg",
        "colab_type": "code",
        "colab": {
          "base_uri": "https://localhost:8080/",
          "height": 690
        },
        "outputId": "5ea29539-89f4-49e7-f99c-171bb38a9bda"
      },
      "source": [
        "plt.figure(figsize=(15,5))\n",
        "plt.title(\"Infosys data \")\n",
        "plt.xlabel(\"Date\")\n",
        "plt.ylabel(\"stock open data\")\n",
        "plt.plot(train_set['Open'],color='blue',label='Training data')\n",
        "plt.plot(test_set['Open'],color='green',label='Testing data')\n",
        "plt.legend()\n",
        "plt.xticks(np.arange(0,241,25),df['Date'][0:241:25])"
      ],
      "execution_count": null,
      "outputs": [
        {
          "output_type": "execute_result",
          "data": {
            "text/plain": [
              "([<matplotlib.axis.XTick at 0x7f9c53538588>,\n",
              "  <matplotlib.axis.XTick at 0x7f9c53538550>,\n",
              "  <matplotlib.axis.XTick at 0x7f9c539eac50>,\n",
              "  <matplotlib.axis.XTick at 0x7f9c53563dd8>,\n",
              "  <matplotlib.axis.XTick at 0x7f9c534f22b0>,\n",
              "  <matplotlib.axis.XTick at 0x7f9c534f2748>,\n",
              "  <matplotlib.axis.XTick at 0x7f9c534f2be0>,\n",
              "  <matplotlib.axis.XTick at 0x7f9c534fb128>,\n",
              "  <matplotlib.axis.XTick at 0x7f9c534fb550>,\n",
              "  <matplotlib.axis.XTick at 0x7f9c534f26a0>],\n",
              " [Text(0, 0, '11/27/2018'),\n",
              "  Text(0, 0, '1/2/2019'),\n",
              "  Text(0, 0, '2/6/2019'),\n",
              "  Text(0, 0, '3/15/2019'),\n",
              "  Text(0, 0, '4/30/2019'),\n",
              "  Text(0, 0, '6/6/2019'),\n",
              "  Text(0, 0, '7/11/2019'),\n",
              "  Text(0, 0, '8/19/2019'),\n",
              "  Text(0, 0, '9/25/2019'),\n",
              "  Text(0, 0, '11/4/2019')])"
            ]
          },
          "metadata": {
            "tags": []
          },
          "execution_count": 11
        },
        {
          "output_type": "display_data",
          "data": {
            "image/png": "[encoded data removed]",
            "text/plain": [
              "<Figure size 1080x360 with 1 Axes>"
            ]
          },
          "metadata": {
            "tags": [],
            "needs_background": "light"
          }
        }
      ]
    },
    {
      "cell_type": "code",
      "metadata": {
        "id": "wC3BkFYo7at_",
        "colab_type": "code",
        "colab": {}
      },
      "source": [
        "#defining a function for checking error\n",
        "def smape(y_true,y_pred):\n",
        "    return np.mean((np.abs(y_true-y_pred)*200/(np.abs(y_true)+np.abs(y_pred))))"
      ],
      "execution_count": null,
      "outputs": []
    },
    {
      "cell_type": "code",
      "metadata": {
        "id": "mNJFCW1u7i4M",
        "colab_type": "code",
        "colab": {
          "base_uri": "https://localhost:8080/",
          "height": 68
        },
        "outputId": "234575a6-69ec-4069-fd12-192b24fce46e"
      },
      "source": [
        "#SARIMA model\n",
        "train_val=train_set['Open'].values\n",
        "test_val=test_set['Open'].values\n",
        "history=[x for x in train_val]\n",
        "print(type(history))#this is list of training data\n",
        "prediction=list()\n",
        "prediction\n",
        "for t in range(len(test_val)):\n",
        "    model=SARIMAX(history,order=(3,1,0),seasonal_order=(3,1,0,24))\n",
        "    model_fit=model.fit(disp=0)\n",
        "    output=model_fit.forecast()\n",
        "    yhat=output[0]\n",
        "    prediction.append(yhat)\n",
        "    obs=test_val[t]\n",
        "    history.append(obs)\n",
        "error=np.sqrt(mean_squared_error(test_val,prediction))\n",
        "print(\" Root Mean squared error : %0.3f\",error)\n",
        "error2=smape(test_val,prediction)\n",
        "print(\"Symmetric mean absolute percentage error: %0.3f\",error2)\n"
      ],
      "execution_count": null,
      "outputs": [
        {
          "output_type": "stream",
          "text": [
            "<class 'list'>\n",
            " Root Mean squared error : %0.3f 20.10446566318669\n",
            "Symmetric mean absolute percentage error: %0.3f 1.824500261572836\n"
          ],
          "name": "stdout"
        }
      ]
    },
    {
      "cell_type": "code",
      "metadata": {
        "id": "DFqxtCRhj6Wa",
        "colab_type": "code",
        "colab": {
          "base_uri": "https://localhost:8080/",
          "height": 507
        },
        "outputId": "5d27b25a-4839-4370-ded1-ae90bc799183"
      },
      "source": [
        "model_fit.summary()"
      ],
      "execution_count": null,
      "outputs": [
        {
          "output_type": "execute_result",
          "data": {
            "text/html": [
              "<table class=\"simpletable\">\n",
              "<caption>Statespace Model Results</caption>\n",
              "<tr>\n",
              "  <th>Dep. Variable:</th>                  <td>y</td>               <th>  No. Observations:  </th>    <td>241</td>  \n",
              "</tr>\n",
              "<tr>\n",
              "  <th>Model:</th>           <td>SARIMAX(3, 1, 0)x(3, 1, 0, 24)</td> <th>  Log Likelihood     </th> <td>-867.697</td>\n",
              "</tr>\n",
              "<tr>\n",
              "  <th>Date:</th>                   <td>Tue, 19 May 2020</td>        <th>  AIC                </th> <td>1749.394</td>\n",
              "</tr>\n",
              "<tr>\n",
              "  <th>Time:</th>                       <td>15:40:12</td>            <th>  BIC                </th> <td>1773.021</td>\n",
              "</tr>\n",
              "<tr>\n",
              "  <th>Sample:</th>                         <td>0</td>               <th>  HQIC               </th> <td>1758.939</td>\n",
              "</tr>\n",
              "<tr>\n",
              "  <th></th>                             <td> - 241</td>             <th>                     </th>     <td> </td>   \n",
              "</tr>\n",
              "<tr>\n",
              "  <th>Covariance Type:</th>               <td>opg</td>              <th>                     </th>     <td> </td>   \n",
              "</tr>\n",
              "</table>\n",
              "<table class=\"simpletable\">\n",
              "<tr>\n",
              "      <td></td>        <th>coef</th>     <th>std err</th>      <th>z</th>      <th>P>|z|</th>  <th>[0.025</th>    <th>0.975]</th>  \n",
              "</tr>\n",
              "<tr>\n",
              "  <th>ar.L1</th>    <td>    0.0924</td> <td>    0.045</td> <td>    2.039</td> <td> 0.041</td> <td>    0.004</td> <td>    0.181</td>\n",
              "</tr>\n",
              "<tr>\n",
              "  <th>ar.L2</th>    <td>   -0.0784</td> <td>    0.078</td> <td>   -1.009</td> <td> 0.313</td> <td>   -0.231</td> <td>    0.074</td>\n",
              "</tr>\n",
              "<tr>\n",
              "  <th>ar.L3</th>    <td>    0.0122</td> <td>    0.106</td> <td>    0.116</td> <td> 0.908</td> <td>   -0.195</td> <td>    0.219</td>\n",
              "</tr>\n",
              "<tr>\n",
              "  <th>ar.S.L24</th> <td>   -0.7448</td> <td>    0.060</td> <td>  -12.457</td> <td> 0.000</td> <td>   -0.862</td> <td>   -0.628</td>\n",
              "</tr>\n",
              "<tr>\n",
              "  <th>ar.S.L48</th> <td>   -0.4673</td> <td>    0.106</td> <td>   -4.393</td> <td> 0.000</td> <td>   -0.676</td> <td>   -0.259</td>\n",
              "</tr>\n",
              "<tr>\n",
              "  <th>ar.S.L72</th> <td>   -0.1538</td> <td>    0.122</td> <td>   -1.265</td> <td> 0.206</td> <td>   -0.392</td> <td>    0.084</td>\n",
              "</tr>\n",
              "<tr>\n",
              "  <th>sigma2</th>   <td>  168.0596</td> <td>    9.933</td> <td>   16.919</td> <td> 0.000</td> <td>  148.591</td> <td>  187.529</td>\n",
              "</tr>\n",
              "</table>\n",
              "<table class=\"simpletable\">\n",
              "<tr>\n",
              "  <th>Ljung-Box (Q):</th>          <td>36.42</td> <th>  Jarque-Bera (JB):  </th> <td>417.91</td>\n",
              "</tr>\n",
              "<tr>\n",
              "  <th>Prob(Q):</th>                <td>0.63</td>  <th>  Prob(JB):          </th>  <td>0.00</td> \n",
              "</tr>\n",
              "<tr>\n",
              "  <th>Heteroskedasticity (H):</th> <td>2.19</td>  <th>  Skew:              </th>  <td>-1.16</td>\n",
              "</tr>\n",
              "<tr>\n",
              "  <th>Prob(H) (two-sided):</th>    <td>0.00</td>  <th>  Kurtosis:          </th>  <td>9.41</td> \n",
              "</tr>\n",
              "</table><br/><br/>Warnings:<br/>[1] Covariance matrix calculated using the outer product of gradients (complex-step)."
            ],
            "text/plain": [
              "<class 'statsmodels.iolib.summary.Summary'>\n",
              "\"\"\"\n",
              "                                 Statespace Model Results                                 \n",
              "==========================================================================================\n",
              "Dep. Variable:                                  y   No. Observations:                  241\n",
              "Model:             SARIMAX(3, 1, 0)x(3, 1, 0, 24)   Log Likelihood                -867.697\n",
              "Date:                            Tue, 19 May 2020   AIC                           1749.394\n",
              "Time:                                    15:40:12   BIC                           1773.021\n",
              "Sample:                                         0   HQIC                          1758.939\n",
              "                                            - 241                                         \n",
              "Covariance Type:                              opg                                         \n",
              "==============================================================================\n",
              "                 coef    std err          z      P>|z|      [0.025      0.975]\n",
              "------------------------------------------------------------------------------\n",
              "ar.L1          0.0924      0.045      2.039      0.041       0.004       0.181\n",
              "ar.L2         -0.0784      0.078     -1.009      0.313      -0.231       0.074\n",
              "ar.L3          0.0122      0.106      0.116      0.908      -0.195       0.219\n",
              "ar.S.L24      -0.7448      0.060    -12.457      0.000      -0.862      -0.628\n",
              "ar.S.L48      -0.4673      0.106     -4.393      0.000      -0.676      -0.259\n",
              "ar.S.L72      -0.1538      0.122     -1.265      0.206      -0.392       0.084\n",
              "sigma2       168.0596      9.933     16.919      0.000     148.591     187.529\n",
              "===================================================================================\n",
              "Ljung-Box (Q):                       36.42   Jarque-Bera (JB):               417.91\n",
              "Prob(Q):                              0.63   Prob(JB):                         0.00\n",
              "Heteroskedasticity (H):               2.19   Skew:                            -1.16\n",
              "Prob(H) (two-sided):                  0.00   Kurtosis:                         9.41\n",
              "===================================================================================\n",
              "\n",
              "Warnings:\n",
              "[1] Covariance matrix calculated using the outer product of gradients (complex-step).\n",
              "\"\"\""
            ]
          },
          "metadata": {
            "tags": []
          },
          "execution_count": 16
        }
      ]
    },
    {
      "cell_type": "code",
      "metadata": {
        "id": "FYBKZwmm72xy",
        "colab_type": "code",
        "colab": {
          "base_uri": "https://localhost:8080/",
          "height": 1000
        },
        "outputId": "438c1686-3d46-4ed4-c4e3-e3f5e1fa7b00"
      },
      "source": [
        "df1=pd.DataFrame({'Actual':test_val,'Predicted':prediction})\n",
        "df1"
      ],
      "execution_count": null,
      "outputs": [
        {
          "output_type": "execute_result",
          "data": {
            "text/html": [
              "<div>\n",
              "<style scoped>\n",
              "    .dataframe tbody tr th:only-of-type {\n",
              "        vertical-align: middle;\n",
              "    }\n",
              "\n",
              "    .dataframe tbody tr th {\n",
              "        vertical-align: top;\n",
              "    }\n",
              "\n",
              "    .dataframe thead th {\n",
              "        text-align: right;\n",
              "    }\n",
              "</style>\n",
              "<table border=\"1\" class=\"dataframe\">\n",
              "  <thead>\n",
              "    <tr style=\"text-align: right;\">\n",
              "      <th></th>\n",
              "      <th>Actual</th>\n",
              "      <th>Predicted</th>\n",
              "    </tr>\n",
              "  </thead>\n",
              "  <tbody>\n",
              "    <tr>\n",
              "      <th>0</th>\n",
              "      <td>832.05</td>\n",
              "      <td>816.440105</td>\n",
              "    </tr>\n",
              "    <tr>\n",
              "      <th>1</th>\n",
              "      <td>831.50</td>\n",
              "      <td>838.977863</td>\n",
              "    </tr>\n",
              "    <tr>\n",
              "      <th>2</th>\n",
              "      <td>829.90</td>\n",
              "      <td>828.068235</td>\n",
              "    </tr>\n",
              "    <tr>\n",
              "      <th>3</th>\n",
              "      <td>824.85</td>\n",
              "      <td>830.392739</td>\n",
              "    </tr>\n",
              "    <tr>\n",
              "      <th>4</th>\n",
              "      <td>822.90</td>\n",
              "      <td>820.801528</td>\n",
              "    </tr>\n",
              "    <tr>\n",
              "      <th>5</th>\n",
              "      <td>806.90</td>\n",
              "      <td>822.729014</td>\n",
              "    </tr>\n",
              "    <tr>\n",
              "      <th>6</th>\n",
              "      <td>765.00</td>\n",
              "      <td>804.945773</td>\n",
              "    </tr>\n",
              "    <tr>\n",
              "      <th>7</th>\n",
              "      <td>787.70</td>\n",
              "      <td>778.156935</td>\n",
              "    </tr>\n",
              "    <tr>\n",
              "      <th>8</th>\n",
              "      <td>787.75</td>\n",
              "      <td>794.674312</td>\n",
              "    </tr>\n",
              "    <tr>\n",
              "      <th>9</th>\n",
              "      <td>787.05</td>\n",
              "      <td>787.357751</td>\n",
              "    </tr>\n",
              "    <tr>\n",
              "      <th>10</th>\n",
              "      <td>785.10</td>\n",
              "      <td>787.907337</td>\n",
              "    </tr>\n",
              "    <tr>\n",
              "      <th>11</th>\n",
              "      <td>807.00</td>\n",
              "      <td>783.560965</td>\n",
              "    </tr>\n",
              "    <tr>\n",
              "      <th>12</th>\n",
              "      <td>792.55</td>\n",
              "      <td>804.643261</td>\n",
              "    </tr>\n",
              "    <tr>\n",
              "      <th>13</th>\n",
              "      <td>790.00</td>\n",
              "      <td>793.386046</td>\n",
              "    </tr>\n",
              "    <tr>\n",
              "      <th>14</th>\n",
              "      <td>794.85</td>\n",
              "      <td>791.499869</td>\n",
              "    </tr>\n",
              "    <tr>\n",
              "      <th>15</th>\n",
              "      <td>795.45</td>\n",
              "      <td>806.806633</td>\n",
              "    </tr>\n",
              "    <tr>\n",
              "      <th>16</th>\n",
              "      <td>785.40</td>\n",
              "      <td>794.555011</td>\n",
              "    </tr>\n",
              "    <tr>\n",
              "      <th>17</th>\n",
              "      <td>781.50</td>\n",
              "      <td>782.245387</td>\n",
              "    </tr>\n",
              "    <tr>\n",
              "      <th>18</th>\n",
              "      <td>786.75</td>\n",
              "      <td>786.226567</td>\n",
              "    </tr>\n",
              "    <tr>\n",
              "      <th>19</th>\n",
              "      <td>773.10</td>\n",
              "      <td>792.431877</td>\n",
              "    </tr>\n",
              "    <tr>\n",
              "      <th>20</th>\n",
              "      <td>765.25</td>\n",
              "      <td>765.639193</td>\n",
              "    </tr>\n",
              "    <tr>\n",
              "      <th>21</th>\n",
              "      <td>767.00</td>\n",
              "      <td>756.154099</td>\n",
              "    </tr>\n",
              "    <tr>\n",
              "      <th>22</th>\n",
              "      <td>763.80</td>\n",
              "      <td>766.985673</td>\n",
              "    </tr>\n",
              "    <tr>\n",
              "      <th>23</th>\n",
              "      <td>691.10</td>\n",
              "      <td>769.970655</td>\n",
              "    </tr>\n",
              "    <tr>\n",
              "      <th>24</th>\n",
              "      <td>630.00</td>\n",
              "      <td>693.428327</td>\n",
              "    </tr>\n",
              "    <tr>\n",
              "      <th>25</th>\n",
              "      <td>650.00</td>\n",
              "      <td>625.292081</td>\n",
              "    </tr>\n",
              "    <tr>\n",
              "      <th>26</th>\n",
              "      <td>647.00</td>\n",
              "      <td>655.007767</td>\n",
              "    </tr>\n",
              "    <tr>\n",
              "      <th>27</th>\n",
              "      <td>651.10</td>\n",
              "      <td>642.047537</td>\n",
              "    </tr>\n",
              "    <tr>\n",
              "      <th>28</th>\n",
              "      <td>651.00</td>\n",
              "      <td>646.843121</td>\n",
              "    </tr>\n",
              "    <tr>\n",
              "      <th>29</th>\n",
              "      <td>660.40</td>\n",
              "      <td>648.787350</td>\n",
              "    </tr>\n",
              "    <tr>\n",
              "      <th>30</th>\n",
              "      <td>668.40</td>\n",
              "      <td>647.038838</td>\n",
              "    </tr>\n",
              "    <tr>\n",
              "      <th>31</th>\n",
              "      <td>690.00</td>\n",
              "      <td>694.388844</td>\n",
              "    </tr>\n",
              "    <tr>\n",
              "      <th>32</th>\n",
              "      <td>681.80</td>\n",
              "      <td>693.861612</td>\n",
              "    </tr>\n",
              "    <tr>\n",
              "      <th>33</th>\n",
              "      <td>708.75</td>\n",
              "      <td>679.878203</td>\n",
              "    </tr>\n",
              "    <tr>\n",
              "      <th>34</th>\n",
              "      <td>695.80</td>\n",
              "      <td>714.624446</td>\n",
              "    </tr>\n",
              "    <tr>\n",
              "      <th>35</th>\n",
              "      <td>717.00</td>\n",
              "      <td>698.430638</td>\n",
              "    </tr>\n",
              "    <tr>\n",
              "      <th>36</th>\n",
              "      <td>722.00</td>\n",
              "      <td>712.612653</td>\n",
              "    </tr>\n",
              "    <tr>\n",
              "      <th>37</th>\n",
              "      <td>698.90</td>\n",
              "      <td>722.344478</td>\n",
              "    </tr>\n",
              "    <tr>\n",
              "      <th>38</th>\n",
              "      <td>696.50</td>\n",
              "      <td>697.672673</td>\n",
              "    </tr>\n",
              "    <tr>\n",
              "      <th>39</th>\n",
              "      <td>696.35</td>\n",
              "      <td>704.201368</td>\n",
              "    </tr>\n",
              "    <tr>\n",
              "      <th>40</th>\n",
              "      <td>709.05</td>\n",
              "      <td>693.801228</td>\n",
              "    </tr>\n",
              "    <tr>\n",
              "      <th>41</th>\n",
              "      <td>705.00</td>\n",
              "      <td>707.028177</td>\n",
              "    </tr>\n",
              "    <tr>\n",
              "      <th>42</th>\n",
              "      <td>709.90</td>\n",
              "      <td>710.670078</td>\n",
              "    </tr>\n",
              "    <tr>\n",
              "      <th>43</th>\n",
              "      <td>712.80</td>\n",
              "      <td>707.770710</td>\n",
              "    </tr>\n",
              "    <tr>\n",
              "      <th>44</th>\n",
              "      <td>715.50</td>\n",
              "      <td>707.220505</td>\n",
              "    </tr>\n",
              "    <tr>\n",
              "      <th>45</th>\n",
              "      <td>711.75</td>\n",
              "      <td>706.620107</td>\n",
              "    </tr>\n",
              "    <tr>\n",
              "      <th>46</th>\n",
              "      <td>693.35</td>\n",
              "      <td>711.297464</td>\n",
              "    </tr>\n",
              "    <tr>\n",
              "      <th>47</th>\n",
              "      <td>705.00</td>\n",
              "      <td>668.223818</td>\n",
              "    </tr>\n",
              "    <tr>\n",
              "      <th>48</th>\n",
              "      <td>694.25</td>\n",
              "      <td>695.437202</td>\n",
              "    </tr>\n",
              "  </tbody>\n",
              "</table>\n",
              "</div>"
            ],
            "text/plain": [
              "    Actual   Predicted\n",
              "0   832.05  816.440105\n",
              "1   831.50  838.977863\n",
              "2   829.90  828.068235\n",
              "3   824.85  830.392739\n",
              "4   822.90  820.801528\n",
              "5   806.90  822.729014\n",
              "6   765.00  804.945773\n",
              "7   787.70  778.156935\n",
              "8   787.75  794.674312\n",
              "9   787.05  787.357751\n",
              "10  785.10  787.907337\n",
              "11  807.00  783.560965\n",
              "12  792.55  804.643261\n",
              "13  790.00  793.386046\n",
              "14  794.85  791.499869\n",
              "15  795.45  806.806633\n",
              "16  785.40  794.555011\n",
              "17  781.50  782.245387\n",
              "18  786.75  786.226567\n",
              "19  773.10  792.431877\n",
              "20  765.25  765.639193\n",
              "21  767.00  756.154099\n",
              "22  763.80  766.985673\n",
              "23  691.10  769.970655\n",
              "24  630.00  693.428327\n",
              "25  650.00  625.292081\n",
              "26  647.00  655.007767\n",
              "27  651.10  642.047537\n",
              "28  651.00  646.843121\n",
              "29  660.40  648.787350\n",
              "30  668.40  647.038838\n",
              "31  690.00  694.388844\n",
              "32  681.80  693.861612\n",
              "33  708.75  679.878203\n",
              "34  695.80  714.624446\n",
              "35  717.00  698.430638\n",
              "36  722.00  712.612653\n",
              "37  698.90  722.344478\n",
              "38  696.50  697.672673\n",
              "39  696.35  704.201368\n",
              "40  709.05  693.801228\n",
              "41  705.00  707.028177\n",
              "42  709.90  710.670078\n",
              "43  712.80  707.770710\n",
              "44  715.50  707.220505\n",
              "45  711.75  706.620107\n",
              "46  693.35  711.297464\n",
              "47  705.00  668.223818\n",
              "48  694.25  695.437202"
            ]
          },
          "metadata": {
            "tags": []
          },
          "execution_count": 17
        }
      ]
    },
    {
      "cell_type": "code",
      "metadata": {
        "id": "lJ039uTQ752M",
        "colab_type": "code",
        "colab": {
          "base_uri": "https://localhost:8080/",
          "height": 367
        },
        "outputId": "decf08b9-2792-410b-ba30-8b95fbb91e12"
      },
      "source": [
        "plt.figure(figsize=(10,5))\n",
        "plt.title(\"Observed vs Prediction\")\n",
        "plt.xlabel('Date')\n",
        "plt.ylabel('Open Price')\n",
        "plt.plot(df['Open'],color='blue',label='Training data')\n",
        "plt.plot(test_set.index,test_set['Open'],'green',marker='o',label='Testing Value')#since training and testing was overlapping therfore marker was used\n",
        "plt.plot(test_set.index,prediction,'red',label='predicted value')\n",
        "plt.xticks(np.arange(0,241,25), df['Date'][0:241:25])\n",
        "plt.legend()"
      ],
      "execution_count": null,
      "outputs": [
        {
          "output_type": "execute_result",
          "data": {
            "text/plain": [
              "<matplotlib.legend.Legend at 0x7f9c532b9d30>"
            ]
          },
          "metadata": {
            "tags": []
          },
          "execution_count": 18
        },
        {
          "output_type": "display_data",
          "data": {
            "image/png": "[encoded data removed]",
            "text/plain": [
              "<Figure size 720x360 with 1 Axes>"
            ]
          },
          "metadata": {
            "tags": [],
            "needs_background": "light"
          }
        }
      ]
    },
    {
      "cell_type": "code",
      "metadata": {
        "id": "kMlKZaMA8FO5",
        "colab_type": "code",
        "colab": {
          "base_uri": "https://localhost:8080/",
          "height": 367
        },
        "outputId": "17e69b35-5b9c-4308-dc0d-2e5cc5d5eb5f"
      },
      "source": [
        "plt.figure(figsize=(7,5))\n",
        "plt.title(\"Plot of observed vs predicted\")\n",
        "plt.xlabel(\"Date\")\n",
        "plt.ylabel('Open Price')\n",
        "plt.plot(test_set.index,test_val,\"green\",label=\"observed\",marker='o')\n",
        "plt.plot(test_set.index,prediction,\"red\",label=\"predicted\")\n",
        "plt.xticks(np.arange(193,242,10),df['Date'][193:242:10])\n",
        "plt.legend()"
      ],
      "execution_count": null,
      "outputs": [
        {
          "output_type": "execute_result",
          "data": {
            "text/plain": [
              "<matplotlib.legend.Legend at 0x7f9c5322fa90>"
            ]
          },
          "metadata": {
            "tags": []
          },
          "execution_count": 19
        },
        {
          "output_type": "display_data",
          "data": {
            "image/png": "[encoded data removed]",
            "text/plain": [
              "<Figure size 504x360 with 1 Axes>"
            ]
          },
          "metadata": {
            "tags": [],
            "needs_background": "light"
          }
        }
      ]
    }
  ]
}